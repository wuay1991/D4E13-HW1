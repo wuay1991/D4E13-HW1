{
  "nbformat": 4,
  "nbformat_minor": 0,
  "metadata": {
    "colab": {
      "name": "D4E13 - Homework1.ipynb",
      "provenance": [],
      "collapsed_sections": []
    },
    "kernelspec": {
      "name": "python3",
      "display_name": "Python 3"
    }
  },
  "cells": [
    {
      "cell_type": "code",
      "metadata": {
        "id": "T61089k0scy6",
        "colab_type": "code",
        "colab": {
          "base_uri": "https://localhost:8080/",
          "height": 85
        },
        "outputId": "a88c9efb-0eea-482b-b66d-0f33fa255fa3"
      },
      "source": [
        "a = float(input('Which is the first number chosen?\\t'))\n",
        "b = float(input('Which is the second number chosen?\\t'))\n",
        "c = float(input('Which is the third number chosen?\\t'))\n",
        "\n",
        "if a >= b and a >= c:\n",
        "  print('The largest number is: ', a)\n",
        "elif b >= a and b >= c:\n",
        "  print('The largest number is: ', b)\n",
        "else:\n",
        "  print('The largest number is: ', c)"
      ],
      "execution_count": 47,
      "outputs": [
        {
          "output_type": "stream",
          "text": [
            "Which is the first number chosen?\t1\n",
            "Which is the second number chosen?\t2\n",
            "Which is the third number chosen?\t0.5\n",
            "The largest number is:  2.0\n"
          ],
          "name": "stdout"
        }
      ]
    },
    {
      "cell_type": "code",
      "metadata": {
        "id": "9YFV0Vq7sJsd",
        "colab_type": "code",
        "colab": {
          "base_uri": "https://localhost:8080/",
          "height": 51
        },
        "outputId": "58fbf9c8-fbe3-4036-a64a-6a4a3f284894"
      },
      "source": [
        "number = float(input('Which number would you like to choose?'))\n",
        "\n",
        "print('You chose:', number)"
      ],
      "execution_count": 10,
      "outputs": [
        {
          "output_type": "stream",
          "text": [
            "Which number would you like to choose?312.4\n",
            "You chose: 312.4\n"
          ],
          "name": "stdout"
        }
      ]
    },
    {
      "cell_type": "code",
      "metadata": {
        "id": "vRJiIwRxtzub",
        "colab_type": "code",
        "colab": {
          "base_uri": "https://localhost:8080/",
          "height": 102
        },
        "outputId": "8154eeaf-9629-4757-b2ea-b331652dd24b"
      },
      "source": [
        "name = input('What is your name?\\t')\n",
        "age = int(input('How old are you?\\t'))\n",
        "year_present = int(input('Which year at the present?\\t'))\n",
        "year_born = year_present - age\n",
        "year_100yo = int(year_born) + 100\n",
        "\n",
        "print('Hello', name, '\\nThe year when you will be 100 years old is: ', str(year_100yo))"
      ],
      "execution_count": 21,
      "outputs": [
        {
          "output_type": "stream",
          "text": [
            "What is your name?\tDUC\n",
            "How old are you?\t29\n",
            "Which year at the present?\t2020\n",
            "Hello DUC \n",
            "The year when you will be 100 years old is:  2091\n"
          ],
          "name": "stdout"
        }
      ]
    },
    {
      "cell_type": "code",
      "metadata": {
        "id": "VyuY_8QmzgEG",
        "colab_type": "code",
        "colab": {
          "base_uri": "https://localhost:8080/",
          "height": 85
        },
        "outputId": "821dc31a-95c1-4fe5-b8cb-ac038e552c5a"
      },
      "source": [
        "generate = random.randint(1,9)\n",
        "guess = int(input('Which number from 1 to 9 \\nwould you like to choose?\\t'))\n",
        "\n",
        "if guess < generate:\n",
        "  print('The random number is: ', generate, '\\nYour chosen number is Too Low')\n",
        "elif guess > generate:\n",
        "  print('The random number is: ', generate, '\\nYour chosen number is Too High')\n",
        "else:\n",
        "  print('The random number is: ', generate, '\\nYour chosen number is Exactly Right')\n"
      ],
      "execution_count": 45,
      "outputs": [
        {
          "output_type": "stream",
          "text": [
            "Which number from 1 to 9 \n",
            "would you like to choose?\t7\n",
            "The random number is:  8 \n",
            "Your chosen number is Too Low\n"
          ],
          "name": "stdout"
        }
      ]
    }
  ]
}